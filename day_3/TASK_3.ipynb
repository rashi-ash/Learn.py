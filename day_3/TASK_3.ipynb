{
  "nbformat": 4,
  "nbformat_minor": 0,
  "metadata": {
    "colab": {
      "name": "Copy of TASK 3.ipynb",
      "provenance": [],
      "include_colab_link": true
    },
    "kernelspec": {
      "name": "python3",
      "display_name": "Python 3"
    },
    "language_info": {
      "name": "python"
    }
  },
  "cells": [
    {
      "cell_type": "markdown",
      "metadata": {
        "id": "view-in-github",
        "colab_type": "text"
      },
      "source": [
        "<a href=\"https://colab.research.google.com/github/rashi-ash/Learn.py/blob/main/day_3/TASK_3.ipynb\" target=\"_parent\"><img src=\"https://colab.research.google.com/assets/colab-badge.svg\" alt=\"Open In Colab\"/></a>"
      ]
    },
    {
      "cell_type": "markdown",
      "metadata": {
        "id": "z20IIB0eUQMN"
      },
      "source": [
        "1 - Write a program which takes a number as input from the user and check whether the number is odd or even.If odd print the number is odd if not print it is even."
      ]
    },
    {
      "cell_type": "code",
      "metadata": {
        "id": "dVgGJ-wTVRit",
        "colab": {
          "base_uri": "https://localhost:8080/"
        },
        "outputId": "f84212f8-54a0-47dd-9b74-cf11d7f01b19"
      },
      "source": [
        "#please enter your answer below this line\n",
        "num = int(input(\"Enter a number: \"))\n",
        "if (num % 2) == 1:\n",
        "   print(\"Entered number is odd\")\n",
        "else:\n",
        "   print(\"Entered number is even\")\n",
        "\n"
      ],
      "execution_count": 4,
      "outputs": [
        {
          "output_type": "stream",
          "text": [
            "Enter a number: 5\n",
            "Entered number is odd\n"
          ],
          "name": "stdout"
        }
      ]
    },
    {
      "cell_type": "markdown",
      "metadata": {
        "id": "7778XD8PVblj"
      },
      "source": [
        "2 -Write a program to find the largest among three numbers and print the largest number."
      ]
    },
    {
      "cell_type": "code",
      "metadata": {
        "id": "m0tUOkOFWR-d",
        "colab": {
          "base_uri": "https://localhost:8080/"
        },
        "outputId": "ad324413-0185-4d84-b6f0-da81e27f5e6a"
      },
      "source": [
        "#please enter your answer below this line\n",
        "num1 = int(input(\"Enter first number: \"))\n",
        "num2 = int(input(\"Enter second number: \"))\n",
        "num3 = int(input(\"Enter third number: \"))\n",
        "if (num1>num2) :\n",
        "  print(\"Largest number is \",num1)\n",
        "elif (num2>num3):\n",
        "  print(\"Largest number is \",num2)\n",
        "else:\n",
        "  print (\"Largest number is \",num3)\n"
      ],
      "execution_count": 10,
      "outputs": [
        {
          "output_type": "stream",
          "text": [
            "Enter first number: 28\n",
            "Enter second number: 34\n",
            "Enter third number: 6\n",
            "Largest number is  34\n"
          ],
          "name": "stdout"
        }
      ]
    },
    {
      "cell_type": "markdown",
      "metadata": {
        "id": "IKLMA-K7OEfY"
      },
      "source": [
        ""
      ]
    },
    {
      "cell_type": "markdown",
      "metadata": {
        "id": "Jg2Ns4OQWaJy"
      },
      "source": [
        "3 -Write a function to prompt for a score between 0.0 and 1.0.\n",
        "\n",
        "    If the score is out of range, print an error.\n",
        "    If the score is between 0.0 and 1.0, print a grade using the following table:\n",
        "    Score Grade\n",
        "             Score\tGrade\n",
        "            >= 0.9\tA\n",
        "            >= 0.8\tB\n",
        "            >= 0.7\tC\n",
        "            >= 0.6\tD\n",
        "             < 0.6\tF\n",
        "If the user enters a value out of range, print a suitable error message and exit. For the test, enter a score of 0.85."
      ]
    },
    {
      "cell_type": "code",
      "metadata": {
        "id": "6DLbGe6XXZPx",
        "colab": {
          "base_uri": "https://localhost:8080/"
        },
        "outputId": "fcbdddb9-8203-4088-9437-31112c08ca81"
      },
      "source": [
        "#please enter your answer below this line\n",
        "score=float(input(\"enter the score :\"))\n",
        "\n",
        "if score<=1.0:\n",
        "\n",
        "   if score >=0.9:\n",
        "\n",
        "       print(\"A\")\n",
        "\n",
        "   elif score>=0.8:\n",
        "\n",
        "       print(\"B\")\n",
        "\n",
        "   elif score>=0.7:\n",
        "\n",
        "       print(\"C\")\n",
        "\n",
        "   elif score>=0.6:\n",
        "\n",
        "       print(\"D\")\n",
        "\n",
        "   else:\n",
        "\n",
        "       print(\"F\")\n",
        "\n",
        "else:\n",
        "\n",
        "   print(\"Error! please print the marks between '0.0 - 1.0\")"
      ],
      "execution_count": 22,
      "outputs": [
        {
          "output_type": "stream",
          "text": [
            "enter the score :0.85\n",
            "B\n"
          ],
          "name": "stdout"
        }
      ]
    },
    {
      "cell_type": "markdown",
      "metadata": {
        "id": "-o0scDq7WkVT"
      },
      "source": [
        ""
      ]
    }
  ]
}